{
 "cells": [
  {
   "cell_type": "markdown",
   "id": "eeca1acd-8cbb-455f-951f-b7edc06b7c8b",
   "metadata": {},
   "source": [
    "# 基于RAG的论文信息检索-矢量召回"
   ]
  },
  {
   "cell_type": "code",
   "execution_count": 1,
   "id": "4b8b2072-d48f-43a3-883a-8cee87e81479",
   "metadata": {},
   "outputs": [
    {
     "name": "stderr",
     "output_type": "stream",
     "text": [
      "/Users/sunwenjun/anaconda3/envs/python310/lib/python3.10/site-packages/sentence_transformers/cross_encoder/CrossEncoder.py:11: TqdmExperimentalWarning: Using `tqdm.autonotebook.tqdm` in notebook mode. Use `tqdm.tqdm` instead to force console mode (e.g. in jupyter console)\n",
      "  from tqdm.autonotebook import tqdm, trange\n",
      "2024-06-18 20:38:20.157128: I tensorflow/core/platform/cpu_feature_guard.cc:210] This TensorFlow binary is optimized to use available CPU instructions in performance-critical operations.\n",
      "To enable the following instructions: AVX2 AVX512F AVX512_VNNI FMA, in other operations, rebuild TensorFlow with the appropriate compiler flags.\n"
     ]
    }
   ],
   "source": [
    "from helper.read_pdf import read_pdf,preprocess\n",
    "from helper.rag import build_prompt, get_completion\n",
    "from helper.vecdb import VectorDBConnector\n",
    "from helper.simcse_embedding import get_embedding"
   ]
  },
  {
   "cell_type": "markdown",
   "id": "3a0021e8-b546-4792-b848-2fad7249cd65",
   "metadata": {},
   "source": [
    "## 1、读取pdf文档"
   ]
  },
  {
   "cell_type": "code",
   "execution_count": 2,
   "id": "95034824-f079-411f-9e28-e824ccd39ee7",
   "metadata": {},
   "outputs": [
    {
     "name": "stdout",
     "output_type": "stream",
     "text": [
      "text_list: 363\n"
     ]
    }
   ],
   "source": [
    "pdf_filepath = './data/基于LSTM和启发式搜索的遥感卫星地面站天线智能调度方法研究2020.pdf'  # 示例PDF文件路径\n",
    "text_list = read_pdf(pdf_filepath, min_line_length=5)  # 读取PDF文件中的文本\n",
    "print(\"text_list:\", len(text_list))\n",
    "\n",
    "pdf_text_list = preprocess(text_list) # 对每段文本预处理\n",
    "print(\"pdf_text_list:\", len(pdf_text_list))"
   ]
  },
  {
   "cell_type": "markdown",
   "id": "d84bff79-c2a7-4676-ad22-35d3e0c1c5e1",
   "metadata": {},
   "source": [
    "## 2、创建矢量库"
   ]
  },
  {
   "cell_type": "code",
   "execution_count": 3,
   "id": "b5958509-4a3d-4644-8374-114d13aeeeb9",
   "metadata": {},
   "outputs": [
    {
     "name": "stderr",
     "output_type": "stream",
     "text": [
      "No sentence-transformers model found with name /Users/sunwenjun/data/models_from_hf/princeton-nlp/sup-simcse-bert-base-uncased. Creating a new one with mean pooling.\n"
     ]
    }
   ],
   "source": [
    "vec_db = VectorDBConnector(\"demo\", get_embedding)\n",
    "vec_db.add_document(pdf_text)"
   ]
  },
  {
   "cell_type": "markdown",
   "id": "f7ac2ed5-8a3b-46d6-9420-e140c005ca01",
   "metadata": {},
   "source": [
    "## 3、Prompt模版"
   ]
  },
  {
   "cell_type": "code",
   "execution_count": 4,
   "id": "fb4c51da-22b5-4f8c-a28d-1061fdfa63c0",
   "metadata": {},
   "outputs": [],
   "source": [
    "prompt_template = \"\"\"\n",
    "已知信息:\n",
    "__INFO__\n",
    "\n",
    "用户问：\n",
    "__QUERY__\n",
    "\n",
    "请用中文回答用户问题。\n",
    "\"\"\""
   ]
  },
  {
   "cell_type": "markdown",
   "id": "86da7e5e-5095-4a2f-9654-f0e3535e7bbb",
   "metadata": {},
   "source": [
    "## 4、检索"
   ]
  },
  {
   "cell_type": "code",
   "execution_count": 5,
   "id": "e4666a30-6b84-4afd-a7fc-11ff637492b0",
   "metadata": {},
   "outputs": [
    {
     "name": "stderr",
     "output_type": "stream",
     "text": [
      "No sentence-transformers model found with name /Users/sunwenjun/data/models_from_hf/princeton-nlp/sup-simcse-bert-base-uncased. Creating a new one with mean pooling.\n"
     ]
    },
    {
     "name": "stdout",
     "output_type": "stream",
     "text": [
      "2 3 LSTM 提取的天线使用特征和地面站现有优先级规则综合得到的天线使用优先\n",
      "\n",
      "(2)LSTM 提取的天线使用优先级规则,相比于地面站现有天线使用优先 级规则时效性较差\n",
      "\n",
      "19 第4章 遥感卫星地面站天线智能调度 集用来调整 LSTM 模型参数,验证集用来选择效果最佳的模型\n",
      "\n",
      "11 基于LSTM和启发式搜索的遥感卫星地面站天线智能调度方法研究 短持续时间\n",
      "\n",
      "V 基于LSTM和启发式搜索的遥感卫星地面站天线智能调度方法研究\n",
      "\n",
      "9 基于LSTM和启发式搜索的遥感卫星地面站天线智能调度方法研究 第 3 章 地面站天线资源调度问题\n",
      "\n",
      "(3) 使用集束搜索的启发式搜索,为每个地面站的数据接收任务确定接收天线\n",
      "\n",
      "69 基于LSTM和启发式搜索的遥感卫星地面站天线智能调度方法研究\n",
      "\n",
      "57 基于LSTM和启发式搜索的遥感卫星地面站天线智能调度方法研究\n",
      "\n",
      "所示,使用 1减去 LSTM 提取的天线使用概率值,并与地面站 现有优先级规则在数值上对应相乘,得出新的天线使用优先级规则,见附表1、\n",
      "\n"
     ]
    }
   ],
   "source": [
    "user_query = \"LSTM网络是如何应用在地面站天线调度的？\"\n",
    "search_results = vec_db.search(user_query, 10)\n",
    "\n",
    "for para in search_results['documents'][0]:\n",
    "    print(para + \"\\n\")"
   ]
  },
  {
   "cell_type": "markdown",
   "id": "c5d025bc-2cbb-41b4-bb29-c3af006f0995",
   "metadata": {},
   "source": [
    "## 5、根据Prompt模版生成Prompt"
   ]
  },
  {
   "cell_type": "code",
   "execution_count": 6,
   "id": "8ac21a24-0756-4340-8c5d-826b2b5a4fbd",
   "metadata": {},
   "outputs": [
    {
     "name": "stdout",
     "output_type": "stream",
     "text": [
      "Prompt:\n",
      " \n",
      "已知信息:\n",
      "2 3 LSTM 提取的天线使用特征和地面站现有优先级规则综合得到的天线使用优先\n",
      "(2)LSTM 提取的天线使用优先级规则,相比于地面站现有天线使用优先 级规则时效性较差\n",
      "19 第4章 遥感卫星地面站天线智能调度 集用来调整 LSTM 模型参数,验证集用来选择效果最佳的模型\n",
      "11 基于LSTM和启发式搜索的遥感卫星地面站天线智能调度方法研究 短持续时间\n",
      "V 基于LSTM和启发式搜索的遥感卫星地面站天线智能调度方法研究\n",
      "9 基于LSTM和启发式搜索的遥感卫星地面站天线智能调度方法研究 第 3 章 地面站天线资源调度问题\n",
      "(3) 使用集束搜索的启发式搜索,为每个地面站的数据接收任务确定接收天线\n",
      "69 基于LSTM和启发式搜索的遥感卫星地面站天线智能调度方法研究\n",
      "57 基于LSTM和启发式搜索的遥感卫星地面站天线智能调度方法研究\n",
      "所示,使用 1减去 LSTM 提取的天线使用概率值,并与地面站 现有优先级规则在数值上对应相乘,得出新的天线使用优先级规则,见附表1、\n",
      "\n",
      "用户问：\n",
      "LSTM网络是如何应用在地面站天线调度的？\n",
      "\n",
      "请用中文回答用户问题。\n",
      "\n"
     ]
    }
   ],
   "source": [
    "prompt = build_prompt(prompt_template, info=search_results['documents'][0], query=user_query)\n",
    "print(\"Prompt:\\n\", prompt)"
   ]
  },
  {
   "cell_type": "markdown",
   "id": "56b9f711-a7c4-4041-9d97-ebffda4ca334",
   "metadata": {},
   "source": [
    "## 6、调用大模型,参考检索结果，生成问题答案"
   ]
  },
  {
   "cell_type": "code",
   "execution_count": 7,
   "id": "66a1ffb9-4050-4e2f-b7eb-25d9ec0bd210",
   "metadata": {},
   "outputs": [
    {
     "name": "stderr",
     "output_type": "stream",
     "text": [
      "huggingface/tokenizers: The current process just got forked, after parallelism has already been used. Disabling parallelism to avoid deadlocks...\n",
      "To disable this warning, you can either:\n",
      "\t- Avoid using `tokenizers` before the fork if possible\n",
      "\t- Explicitly set the environment variable TOKENIZERS_PARALLELISM=(true | false)\n"
     ]
    },
    {
     "name": "stdout",
     "output_type": "stream",
     "text": [
      "答案：\n",
      " LSTM网络在地面站天线调度中的应用主要体现在以下几个方面：\n",
      "\n",
      "1. **特征提取**：LSTM网络能够提取天线使用的特征，这些特征可能包括天线的性能参数、历史使用情况、任务需求等。\n",
      "\n",
      "2. **优先级规则生成**：通过LSTM网络提取的特征，可以生成天线使用的优先级规则。这些规则可以帮助地面站更智能地决定哪些天线应该优先使用。\n",
      "\n",
      "3. **时效性对比**：LSTM提取的天线使用优先级规则与地面站现有的优先级规则相比，可能在时效性上存在差异。这意味着LSTM生成的规则可能需要进一步优化以适应实时调度的需求。\n",
      "\n",
      "4. **模型训练与验证**：使用训练集来调整LSTM模型的参数，验证集则用于选择效果最佳的模型。这有助于确保LSTM网络在实际应用中的有效性和准确性。\n",
      "\n",
      "5. **启发式搜索结合**：LSTM网络可以与启发式搜索方法结合使用，通过集束搜索等启发式算法为每个地面站的数据接收任务确定接收天线，提高调度的效率和准确性。\n",
      "\n",
      "6. **优先级规则调整**：通过将LSTM提取的天线使用概率值进行调整（例如使用1减去概率值），并与地面站现有优先级规则相结合，可以得出新的天线使用优先级规则，以适应不同的调度场景。\n",
      "\n",
      "综上所述，LSTM网络在地面站天线调度中的应用是通过特征提取、优先级规则生成、模型训练与验证、启发式搜索结合以及优先级规则调整等多个步骤实现的，旨在提高天线调度的智能化水平和效率。\n"
     ]
    }
   ],
   "source": [
    "response = get_completion(prompt)\n",
    "print(\"答案：\\n\", response)"
   ]
  },
  {
   "cell_type": "code",
   "execution_count": null,
   "id": "e020a749-3a7a-479e-9d90-8f84ae67dc3d",
   "metadata": {},
   "outputs": [],
   "source": []
  }
 ],
 "metadata": {
  "kernelspec": {
   "display_name": "Python 3 (ipykernel)",
   "language": "python",
   "name": "python3"
  },
  "language_info": {
   "codemirror_mode": {
    "name": "ipython",
    "version": 3
   },
   "file_extension": ".py",
   "mimetype": "text/x-python",
   "name": "python",
   "nbconvert_exporter": "python",
   "pygments_lexer": "ipython3",
   "version": "3.10.6"
  }
 },
 "nbformat": 4,
 "nbformat_minor": 5
}
